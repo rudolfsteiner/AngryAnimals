{
 "cells": [
  {
   "cell_type": "markdown",
   "metadata": {},
   "source": [
    "# Angry Animals\n",
    "\n",
    "### Complexity O(n)"
   ]
  },
  {
   "cell_type": "code",
   "execution_count": 1,
   "metadata": {
    "collapsed": true
   },
   "outputs": [],
   "source": [
    "from collections import defaultdict"
   ]
  },
  {
   "cell_type": "code",
   "execution_count": 2,
   "metadata": {
    "collapsed": true
   },
   "outputs": [],
   "source": [
    "\n"
   ]
  },
  {
   "cell_type": "code",
   "execution_count": 5,
   "metadata": {
    "collapsed": true
   },
   "outputs": [],
   "source": [
    "def angryAnimals(n, a, b):\n",
    "\n",
    "    dd = defaultdict(list)\n",
    "    d_order = defaultdict(int)\n",
    "\n",
    "    # build edges\n",
    "    for i in range(len(a)):\n",
    "        dd[a[i]].append(b[i])\n",
    "        dd[b[i]].append(a[i])\n",
    "\n",
    "    # find the minimum space of a point on the left side, default\n",
    "    for key in dd:\n",
    "        min_k = 0\n",
    "        for value in dd[key]:\n",
    "            if value<key:\n",
    "                min_k = max(value, min_k)\n",
    "\n",
    "        d_order[key]= min_k \n",
    "\n",
    "    min_left = 0\n",
    "    total = 0\n",
    "    for i in range(1,n+1):\n",
    "        min_left = max(min_left, d_order[i]) \n",
    "        total += i - min_left \n",
    "\n",
    "    return total"
   ]
  },
  {
   "cell_type": "code",
   "execution_count": 7,
   "metadata": {},
   "outputs": [
    {
     "data": {
      "text/plain": [
       "18"
      ]
     },
     "execution_count": 7,
     "metadata": {},
     "output_type": "execute_result"
    }
   ],
   "source": [
    "a = [2,3,4,3]\n",
    "b = [8,5,6,4] \n",
    "n = 8 \n",
    "angryAnimals(n, a, b)"
   ]
  },
  {
   "cell_type": "code",
   "execution_count": 8,
   "metadata": {},
   "outputs": [
    {
     "data": {
      "text/plain": [
       "11"
      ]
     },
     "execution_count": 8,
     "metadata": {},
     "output_type": "execute_result"
    }
   ],
   "source": [
    "a = [1,2] \n",
    "b = [3,5]\n",
    "n = 5\n",
    "angryAnimals(n, a, b)"
   ]
  },
  {
   "cell_type": "code",
   "execution_count": 9,
   "metadata": {},
   "outputs": [
    {
     "data": {
      "text/plain": [
       "7"
      ]
     },
     "execution_count": 9,
     "metadata": {},
     "output_type": "execute_result"
    }
   ],
   "source": [
    "a  = [1,2]\n",
    "b = [3,4]\n",
    "n = 4\n",
    "angryAnimals(n, a, b)"
   ]
  }
 ],
 "metadata": {
  "kernelspec": {
   "display_name": "Python 3",
   "language": "python",
   "name": "python3"
  },
  "language_info": {
   "codemirror_mode": {
    "name": "ipython",
    "version": 3
   },
   "file_extension": ".py",
   "mimetype": "text/x-python",
   "name": "python",
   "nbconvert_exporter": "python",
   "pygments_lexer": "ipython3",
   "version": "3.6.0"
  }
 },
 "nbformat": 4,
 "nbformat_minor": 2
}
